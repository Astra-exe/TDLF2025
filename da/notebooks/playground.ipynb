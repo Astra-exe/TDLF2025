{
 "cells": [
  {
   "cell_type": "markdown",
   "metadata": {},
   "source": [
    "# Mapa de calor por ciudades"
   ]
  },
  {
   "cell_type": "markdown",
   "metadata": {},
   "source": [
    "Se genera un mapa de calor sobre un mapa de méxico, indicando zonas de calor en las ciudades de los participantes, mientras más jugadores provengan de una ciudad, más cálido será el color"
   ]
  },
  {
   "cell_type": "code",
   "execution_count": 1,
   "metadata": {},
   "outputs": [],
   "source": [
    "import folium\n",
    "from folium.plugins import HeatMap\n",
    "import pandas as pd\n",
    "import time\n",
    "import requests"
   ]
  },
  {
   "cell_type": "code",
   "execution_count": 2,
   "metadata": {},
   "outputs": [],
   "source": [
    "# Datos de ejemplo\n",
    "data = {\n",
    "    \"ciudad\": [\"Salvatierra\", \"Abasolo\", \"Morelia\", \"Irapuato\", \"Ciudad de México\"],\n",
    "    \"jugadores\": [5, 10, 4, 20, 2]  # Número de jugadores por ciudad\n",
    "}\n",
    "df = pd.DataFrame(data)"
   ]
  },
  {
   "cell_type": "code",
   "execution_count": 3,
   "metadata": {},
   "outputs": [
    {
     "data": {
      "text/html": [
       "<div>\n",
       "<style scoped>\n",
       "    .dataframe tbody tr th:only-of-type {\n",
       "        vertical-align: middle;\n",
       "    }\n",
       "\n",
       "    .dataframe tbody tr th {\n",
       "        vertical-align: top;\n",
       "    }\n",
       "\n",
       "    .dataframe thead th {\n",
       "        text-align: right;\n",
       "    }\n",
       "</style>\n",
       "<table border=\"1\" class=\"dataframe\">\n",
       "  <thead>\n",
       "    <tr style=\"text-align: right;\">\n",
       "      <th></th>\n",
       "      <th>ciudad</th>\n",
       "      <th>jugadores</th>\n",
       "    </tr>\n",
       "  </thead>\n",
       "  <tbody>\n",
       "    <tr>\n",
       "      <th>0</th>\n",
       "      <td>Salvatierra</td>\n",
       "      <td>5</td>\n",
       "    </tr>\n",
       "    <tr>\n",
       "      <th>1</th>\n",
       "      <td>Abasolo</td>\n",
       "      <td>10</td>\n",
       "    </tr>\n",
       "    <tr>\n",
       "      <th>2</th>\n",
       "      <td>Morelia</td>\n",
       "      <td>4</td>\n",
       "    </tr>\n",
       "    <tr>\n",
       "      <th>3</th>\n",
       "      <td>Irapuato</td>\n",
       "      <td>20</td>\n",
       "    </tr>\n",
       "    <tr>\n",
       "      <th>4</th>\n",
       "      <td>Ciudad de México</td>\n",
       "      <td>2</td>\n",
       "    </tr>\n",
       "  </tbody>\n",
       "</table>\n",
       "</div>"
      ],
      "text/plain": [
       "             ciudad  jugadores\n",
       "0       Salvatierra          5\n",
       "1           Abasolo         10\n",
       "2           Morelia          4\n",
       "3          Irapuato         20\n",
       "4  Ciudad de México          2"
      ]
     },
     "execution_count": 3,
     "metadata": {},
     "output_type": "execute_result"
    }
   ],
   "source": [
    "df"
   ]
  },
  {
   "cell_type": "code",
   "execution_count": 4,
   "metadata": {},
   "outputs": [],
   "source": [
    "# Usar API de Nominatim para obtener coordenadas\n",
    "def get_coords_nominatim(ciudad):\n",
    "    url = \"https://nominatim.openstreetmap.org/search\"\n",
    "    params = {\"q\": f\"{ciudad}, México\", \"format\": \"json\", \"limit\": 1}\n",
    "    headers = {\"User-Agent\": \"torneo_gobierno_irapuato_frontenis_v1.0 (contacto@irapuato.gob.mx)\"}\n",
    "\n",
    "    try:\n",
    "        response = requests.get(url, params=params, headers=headers, timeout=15)\n",
    "        response.raise_for_status()  # Lanza error para códigos 4xx/5xx\n",
    "        data = response.json()\n",
    "        return [float(data[0][\"lat\"]), float(data[0][\"lon\"])] if data else None\n",
    "    except requests.exceptions.RequestException as e:\n",
    "        print(f\"Error en {ciudad}: {str(e)}\")\n",
    "        return None\n",
    "# Aplicar\n",
    "df[\"coordenadas\"] = df[\"ciudad\"].apply(\n",
    "    lambda x: (time.sleep(1), get_coords_nominatim(x))[1]  # Pausa de 1s entre solicitudes\n",
    ")"
   ]
  },
  {
   "cell_type": "code",
   "execution_count": 5,
   "metadata": {},
   "outputs": [
    {
     "data": {
      "text/html": [
       "<div>\n",
       "<style scoped>\n",
       "    .dataframe tbody tr th:only-of-type {\n",
       "        vertical-align: middle;\n",
       "    }\n",
       "\n",
       "    .dataframe tbody tr th {\n",
       "        vertical-align: top;\n",
       "    }\n",
       "\n",
       "    .dataframe thead th {\n",
       "        text-align: right;\n",
       "    }\n",
       "</style>\n",
       "<table border=\"1\" class=\"dataframe\">\n",
       "  <thead>\n",
       "    <tr style=\"text-align: right;\">\n",
       "      <th></th>\n",
       "      <th>ciudad</th>\n",
       "      <th>jugadores</th>\n",
       "      <th>coordenadas</th>\n",
       "    </tr>\n",
       "  </thead>\n",
       "  <tbody>\n",
       "    <tr>\n",
       "      <th>0</th>\n",
       "      <td>Salvatierra</td>\n",
       "      <td>5</td>\n",
       "      <td>[20.192654599999997, -100.86599313440021]</td>\n",
       "    </tr>\n",
       "    <tr>\n",
       "      <th>1</th>\n",
       "      <td>Abasolo</td>\n",
       "      <td>10</td>\n",
       "      <td>[20.5375581, -101.54578687631809]</td>\n",
       "    </tr>\n",
       "    <tr>\n",
       "      <th>2</th>\n",
       "      <td>Morelia</td>\n",
       "      <td>4</td>\n",
       "      <td>[19.6546004, -101.26237972291207]</td>\n",
       "    </tr>\n",
       "    <tr>\n",
       "      <th>3</th>\n",
       "      <td>Irapuato</td>\n",
       "      <td>20</td>\n",
       "      <td>[20.6758761, -101.3521052]</td>\n",
       "    </tr>\n",
       "    <tr>\n",
       "      <th>4</th>\n",
       "      <td>Ciudad de México</td>\n",
       "      <td>2</td>\n",
       "      <td>[19.4326296, -99.1331785]</td>\n",
       "    </tr>\n",
       "  </tbody>\n",
       "</table>\n",
       "</div>"
      ],
      "text/plain": [
       "             ciudad  jugadores                                coordenadas\n",
       "0       Salvatierra          5  [20.192654599999997, -100.86599313440021]\n",
       "1           Abasolo         10          [20.5375581, -101.54578687631809]\n",
       "2           Morelia          4          [19.6546004, -101.26237972291207]\n",
       "3          Irapuato         20                 [20.6758761, -101.3521052]\n",
       "4  Ciudad de México          2                  [19.4326296, -99.1331785]"
      ]
     },
     "execution_count": 5,
     "metadata": {},
     "output_type": "execute_result"
    }
   ],
   "source": [
    "df"
   ]
  },
  {
   "cell_type": "code",
   "execution_count": 8,
   "metadata": {},
   "outputs": [
    {
     "data": {
      "text/plain": [
       "<folium.plugins.heat_map.HeatMap at 0x22e0244a450>"
      ]
     },
     "execution_count": 8,
     "metadata": {},
     "output_type": "execute_result"
    }
   ],
   "source": [
    "#Crear un mapa con folium y agregar areas de calor según el numero de jugadores\n",
    "mapa = folium.Map(\n",
    "    location=[20.6736, -101.325],  # Centro cerca de Irapuato para mejor enfoque\n",
    "    zoom_start=7,\n",
    "    tiles=\"CartoDB dark_matter\", # Mapa de aspecto oscuro, creo que esto hará que se mezcle mejor con el diseño de la pagina\n",
    "    attr='© CARTO')\n",
    "\n",
    "#Preparar datos para el heatmap (coordenadas + peso)\n",
    "heat_data = [[row[\"coordenadas\"][0], row[\"coordenadas\"][1], row[\"jugadores\"]]\n",
    "             for _, row in df.iterrows()]\n",
    "\n",
    "HeatMap(heat_data, radius=25, blur=15).add_to(mapa)"
   ]
  },
  {
   "cell_type": "code",
   "execution_count": 9,
   "metadata": {},
   "outputs": [
    {
     "data": {
      "text/html": [
       "<div style=\"width:100%;\"><div style=\"position:relative;width:100%;height:0;padding-bottom:60%;\"><span style=\"color:#565656\">Make this Notebook Trusted to load map: File -> Trust Notebook</span><iframe srcdoc=\"&lt;!DOCTYPE html&gt;\n",
       "&lt;html&gt;\n",
       "&lt;head&gt;\n",
       "    \n",
       "    &lt;meta http-equiv=&quot;content-type&quot; content=&quot;text/html; charset=UTF-8&quot; /&gt;\n",
       "    \n",
       "        &lt;script&gt;\n",
       "            L_NO_TOUCH = false;\n",
       "            L_DISABLE_3D = false;\n",
       "        &lt;/script&gt;\n",
       "    \n",
       "    &lt;style&gt;html, body {width: 100%;height: 100%;margin: 0;padding: 0;}&lt;/style&gt;\n",
       "    &lt;style&gt;#map {position:absolute;top:0;bottom:0;right:0;left:0;}&lt;/style&gt;\n",
       "    &lt;script src=&quot;https://cdn.jsdelivr.net/npm/leaflet@1.9.3/dist/leaflet.js&quot;&gt;&lt;/script&gt;\n",
       "    &lt;script src=&quot;https://code.jquery.com/jquery-3.7.1.min.js&quot;&gt;&lt;/script&gt;\n",
       "    &lt;script src=&quot;https://cdn.jsdelivr.net/npm/bootstrap@5.2.2/dist/js/bootstrap.bundle.min.js&quot;&gt;&lt;/script&gt;\n",
       "    &lt;script src=&quot;https://cdnjs.cloudflare.com/ajax/libs/Leaflet.awesome-markers/2.0.2/leaflet.awesome-markers.js&quot;&gt;&lt;/script&gt;\n",
       "    &lt;link rel=&quot;stylesheet&quot; href=&quot;https://cdn.jsdelivr.net/npm/leaflet@1.9.3/dist/leaflet.css&quot;/&gt;\n",
       "    &lt;link rel=&quot;stylesheet&quot; href=&quot;https://cdn.jsdelivr.net/npm/bootstrap@5.2.2/dist/css/bootstrap.min.css&quot;/&gt;\n",
       "    &lt;link rel=&quot;stylesheet&quot; href=&quot;https://netdna.bootstrapcdn.com/bootstrap/3.0.0/css/bootstrap-glyphicons.css&quot;/&gt;\n",
       "    &lt;link rel=&quot;stylesheet&quot; href=&quot;https://cdn.jsdelivr.net/npm/@fortawesome/fontawesome-free@6.2.0/css/all.min.css&quot;/&gt;\n",
       "    &lt;link rel=&quot;stylesheet&quot; href=&quot;https://cdnjs.cloudflare.com/ajax/libs/Leaflet.awesome-markers/2.0.2/leaflet.awesome-markers.css&quot;/&gt;\n",
       "    &lt;link rel=&quot;stylesheet&quot; href=&quot;https://cdn.jsdelivr.net/gh/python-visualization/folium/folium/templates/leaflet.awesome.rotate.min.css&quot;/&gt;\n",
       "    \n",
       "            &lt;meta name=&quot;viewport&quot; content=&quot;width=device-width,\n",
       "                initial-scale=1.0, maximum-scale=1.0, user-scalable=no&quot; /&gt;\n",
       "            &lt;style&gt;\n",
       "                #map_2457e4ce1dbdd5449e05ef2da1576648 {\n",
       "                    position: relative;\n",
       "                    width: 100.0%;\n",
       "                    height: 100.0%;\n",
       "                    left: 0.0%;\n",
       "                    top: 0.0%;\n",
       "                }\n",
       "                .leaflet-container { font-size: 1rem; }\n",
       "            &lt;/style&gt;\n",
       "        \n",
       "    &lt;script src=&quot;https://cdn.jsdelivr.net/gh/python-visualization/folium@main/folium/templates/leaflet_heat.min.js&quot;&gt;&lt;/script&gt;\n",
       "&lt;/head&gt;\n",
       "&lt;body&gt;\n",
       "    \n",
       "    \n",
       "            &lt;div class=&quot;folium-map&quot; id=&quot;map_2457e4ce1dbdd5449e05ef2da1576648&quot; &gt;&lt;/div&gt;\n",
       "        \n",
       "&lt;/body&gt;\n",
       "&lt;script&gt;\n",
       "    \n",
       "    \n",
       "            var map_2457e4ce1dbdd5449e05ef2da1576648 = L.map(\n",
       "                &quot;map_2457e4ce1dbdd5449e05ef2da1576648&quot;,\n",
       "                {\n",
       "                    center: [20.6736, -101.325],\n",
       "                    crs: L.CRS.EPSG3857,\n",
       "                    ...{\n",
       "  &quot;zoom&quot;: 7,\n",
       "  &quot;zoomControl&quot;: true,\n",
       "  &quot;preferCanvas&quot;: false,\n",
       "}\n",
       "\n",
       "                }\n",
       "            );\n",
       "\n",
       "            \n",
       "\n",
       "        \n",
       "    \n",
       "            var tile_layer_6bdb5c726749ab1aa5f7360a8644fefb = L.tileLayer(\n",
       "                &quot;https://{s}.basemaps.cartocdn.com/dark_all/{z}/{x}/{y}{r}.png&quot;,\n",
       "                {\n",
       "  &quot;minZoom&quot;: 0,\n",
       "  &quot;maxZoom&quot;: 20,\n",
       "  &quot;maxNativeZoom&quot;: 20,\n",
       "  &quot;noWrap&quot;: false,\n",
       "  &quot;attribution&quot;: &quot;\\u00a9 CARTO&quot;,\n",
       "  &quot;subdomains&quot;: &quot;abcd&quot;,\n",
       "  &quot;detectRetina&quot;: false,\n",
       "  &quot;tms&quot;: false,\n",
       "  &quot;opacity&quot;: 1,\n",
       "}\n",
       "\n",
       "            );\n",
       "        \n",
       "    \n",
       "            tile_layer_6bdb5c726749ab1aa5f7360a8644fefb.addTo(map_2457e4ce1dbdd5449e05ef2da1576648);\n",
       "        \n",
       "    \n",
       "            var heat_map_097e53281d7784cc96fcccda7454f870 = L.heatLayer(\n",
       "                [[20.192654599999997, -100.86599313440021, 5], [20.5375581, -101.54578687631809, 10], [19.6546004, -101.26237972291207, 4], [20.6758761, -101.3521052, 20], [19.4326296, -99.1331785, 2]],\n",
       "                {\n",
       "  &quot;minOpacity&quot;: 0.5,\n",
       "  &quot;maxZoom&quot;: 18,\n",
       "  &quot;radius&quot;: 25,\n",
       "  &quot;blur&quot;: 15,\n",
       "}\n",
       "            );\n",
       "        \n",
       "    \n",
       "            heat_map_097e53281d7784cc96fcccda7454f870.addTo(map_2457e4ce1dbdd5449e05ef2da1576648);\n",
       "        \n",
       "&lt;/script&gt;\n",
       "&lt;/html&gt;\" style=\"position:absolute;width:100%;height:100%;left:0;top:0;border:none !important;\" allowfullscreen webkitallowfullscreen mozallowfullscreen></iframe></div></div>"
      ],
      "text/plain": [
       "<folium.folium.Map at 0x22e0244af90>"
      ]
     },
     "execution_count": 9,
     "metadata": {},
     "output_type": "execute_result"
    }
   ],
   "source": [
    "mapa"
   ]
  },
  {
   "cell_type": "code",
   "execution_count": null,
   "metadata": {},
   "outputs": [],
   "source": []
  },
  {
   "cell_type": "markdown",
   "metadata": {},
   "source": [
    "# Registrar jugadores en mi DB"
   ]
  },
  {
   "cell_type": "markdown",
   "metadata": {},
   "source": [
    "Registrar una buena cantidad de jugadores de forma dinámica"
   ]
  },
  {
   "cell_type": "code",
   "execution_count": 2,
   "metadata": {},
   "outputs": [],
   "source": [
    "import requests\n",
    "import json\n",
    "import unicodedata"
   ]
  },
  {
   "cell_type": "code",
   "execution_count": null,
   "metadata": {},
   "outputs": [],
   "source": [
    "def get_apikey():\n",
    "    payload = {\n",
    "        \"nickname\":\"astra\",\n",
    "        \"password\":\"\"\n",
    "    }\n",
    "\n",
    "    try:\n",
    "        response = requests.post('https://api-nq8l.onrender.com/v1/auth/login', json=payload)\n",
    "        response.raise_for_status()\n",
    "        data = response.json()\n",
    "        data = data['data']\n",
    "        return data['api_key']\n",
    "    \n",
    "    except requests.exceptions.HTTPError as err:\n",
    "        print(err)\n",
    "    except requests.exceptions.ConnectionError:\n",
    "        print(\"Error de conexión\")\n",
    "    except requests.exceptions.Timeout:\n",
    "        print(\"Se agotó el tiempo de la solicitud\")\n",
    "    except Exception as e:\n",
    "        print(\"Error inesperado: \", str(e))\n",
    "    \n",
    "    return None"
   ]
  },
  {
   "cell_type": "code",
   "execution_count": 5,
   "metadata": {},
   "outputs": [
    {
     "data": {
      "text/plain": [
       "'2b623598a41deebbf3c6abbdefd7e38d1a95d5915a35a3e67271c6fccdec6a19'"
      ]
     },
     "execution_count": 5,
     "metadata": {},
     "output_type": "execute_result"
    }
   ],
   "source": [
    "get_apikey()"
   ]
  },
  {
   "cell_type": "code",
   "execution_count": null,
   "metadata": {},
   "outputs": [
    {
     "name": "stdout",
     "output_type": "stream",
     "text": [
      "{'registration_category_id': '38cb2a74-06ae-42a3-8117-40d204751293', 'players': [{'fullname': 'Regina Silva', 'city': 'Tequisquiapan', 'weight': 98.65, 'height': 1.81, 'age': 18, 'experience': 8}, {'fullname': 'Mariana Rodríguez', 'city': 'Irapuato', 'weight': 66.19, 'height': 1.99, 'age': 24, 'experience': 8}]}\n",
      "{'data': {'pair': {'id': '01863046-52d8-47a2-9730-43ef4127cd8b', 'is_eliminated': 0, 'created_at': '2025-03-11 15:08:07', 'updated_at': '2025-03-11 15:08:07', 'registration_category': {'id': '38cb2a74-06ae-42a3-8117-40d204751293', 'name': 'open', 'description': 'Categoría libre'}}, 'players': [{'player': {'id': 'e99acdca-5e86-41aa-9ad4-736c267ec895', 'fullname': 'Mateo Levy', 'city': 'León', 'weight': '85.05', 'height': '1.70', 'age': 19, 'experience': 2, 'is_active': 1, 'created_at': '2025-03-11 15:08:07', 'updated_at': '2025-03-11 15:08:07'}, 'relationship': {'id': '6a088d9f-4440-44ac-a201-5f55d71aa26c', 'player_id': 'e99acdca-5e86-41aa-9ad4-736c267ec895', 'pair_id': '01863046-52d8-47a2-9730-43ef4127cd8b', 'created_at': '2025-03-11 15:08:07', 'updated_at': '2025-03-11 15:08:07'}}, {'player': {'id': 'd3106d93-a6fe-4245-ad32-c294ba0bda2b', 'fullname': 'Javier Aquino', 'city': 'Irapuato', 'weight': '84.45', 'height': '1.86', 'age': 23, 'experience': 8, 'is_active': 1, 'created_at': '2025-03-11 15:08:07', 'updated_at': '2025-03-11 15:08:07'}, 'relationship': {'id': 'c991b40c-71ed-4743-83bb-28765f4ff837', 'player_id': 'd3106d93-a6fe-4245-ad32-c294ba0bda2b', 'pair_id': '01863046-52d8-47a2-9730-43ef4127cd8b', 'created_at': '2025-03-11 15:08:07', 'updated_at': '2025-03-11 15:08:07'}}]}, 'status': 201, 'description': 'The pair with the players was created successfully'}\n",
      "{'registration_category_id': '38cb2a74-06ae-42a3-8117-40d204751293', 'players': [{'fullname': 'Camila Pérez', 'city': 'Silao', 'weight': 84.56, 'height': 1.75, 'age': 23, 'experience': 1}, {'fullname': 'Daniela Ramírez', 'city': 'Querétaro', 'weight': 63.84, 'height': 1.68, 'age': 38, 'experience': 4}]}\n",
      "{'data': {'pair': {'id': '01863046-52d8-47a2-9730-43ef4127cd8b', 'is_eliminated': 0, 'created_at': '2025-03-11 15:08:07', 'updated_at': '2025-03-11 15:08:07', 'registration_category': {'id': '38cb2a74-06ae-42a3-8117-40d204751293', 'name': 'open', 'description': 'Categoría libre'}}, 'players': [{'player': {'id': 'e99acdca-5e86-41aa-9ad4-736c267ec895', 'fullname': 'Mateo Levy', 'city': 'León', 'weight': '85.05', 'height': '1.70', 'age': 19, 'experience': 2, 'is_active': 1, 'created_at': '2025-03-11 15:08:07', 'updated_at': '2025-03-11 15:08:07'}, 'relationship': {'id': '6a088d9f-4440-44ac-a201-5f55d71aa26c', 'player_id': 'e99acdca-5e86-41aa-9ad4-736c267ec895', 'pair_id': '01863046-52d8-47a2-9730-43ef4127cd8b', 'created_at': '2025-03-11 15:08:07', 'updated_at': '2025-03-11 15:08:07'}}, {'player': {'id': 'd3106d93-a6fe-4245-ad32-c294ba0bda2b', 'fullname': 'Javier Aquino', 'city': 'Irapuato', 'weight': '84.45', 'height': '1.86', 'age': 23, 'experience': 8, 'is_active': 1, 'created_at': '2025-03-11 15:08:07', 'updated_at': '2025-03-11 15:08:07'}, 'relationship': {'id': 'c991b40c-71ed-4743-83bb-28765f4ff837', 'player_id': 'd3106d93-a6fe-4245-ad32-c294ba0bda2b', 'pair_id': '01863046-52d8-47a2-9730-43ef4127cd8b', 'created_at': '2025-03-11 15:08:07', 'updated_at': '2025-03-11 15:08:07'}}]}, 'status': 201, 'description': 'The pair with the players was created successfully'}\n",
      "{'registration_category_id': '38cb2a74-06ae-42a3-8117-40d204751293', 'players': [{'fullname': 'Ximena Hernández', 'city': 'Celaya', 'weight': 68.76, 'height': 1.69, 'age': 38, 'experience': 6}, {'fullname': 'Ximena García', 'city': 'Querétaro', 'weight': 87.03, 'height': 1.97, 'age': 33, 'experience': 4}]}\n",
      "{'data': {'pair': {'id': '01863046-52d8-47a2-9730-43ef4127cd8b', 'is_eliminated': 0, 'created_at': '2025-03-11 15:08:07', 'updated_at': '2025-03-11 15:08:07', 'registration_category': {'id': '38cb2a74-06ae-42a3-8117-40d204751293', 'name': 'open', 'description': 'Categoría libre'}}, 'players': [{'player': {'id': 'e99acdca-5e86-41aa-9ad4-736c267ec895', 'fullname': 'Mateo Levy', 'city': 'León', 'weight': '85.05', 'height': '1.70', 'age': 19, 'experience': 2, 'is_active': 1, 'created_at': '2025-03-11 15:08:07', 'updated_at': '2025-03-11 15:08:07'}, 'relationship': {'id': '6a088d9f-4440-44ac-a201-5f55d71aa26c', 'player_id': 'e99acdca-5e86-41aa-9ad4-736c267ec895', 'pair_id': '01863046-52d8-47a2-9730-43ef4127cd8b', 'created_at': '2025-03-11 15:08:07', 'updated_at': '2025-03-11 15:08:07'}}, {'player': {'id': 'd3106d93-a6fe-4245-ad32-c294ba0bda2b', 'fullname': 'Javier Aquino', 'city': 'Irapuato', 'weight': '84.45', 'height': '1.86', 'age': 23, 'experience': 8, 'is_active': 1, 'created_at': '2025-03-11 15:08:07', 'updated_at': '2025-03-11 15:08:07'}, 'relationship': {'id': 'c991b40c-71ed-4743-83bb-28765f4ff837', 'player_id': 'd3106d93-a6fe-4245-ad32-c294ba0bda2b', 'pair_id': '01863046-52d8-47a2-9730-43ef4127cd8b', 'created_at': '2025-03-11 15:08:07', 'updated_at': '2025-03-11 15:08:07'}}]}, 'status': 201, 'description': 'The pair with the players was created successfully'}\n",
      "{'registration_category_id': '38cb2a74-06ae-42a3-8117-40d204751293', 'players': [{'fullname': 'Leonardo Díaz', 'city': 'Uruapan', 'weight': 90.57, 'height': 1.54, 'age': 23, 'experience': 10}, {'fullname': 'Valentina López', 'city': 'Ciudad de México', 'weight': 77.75, 'height': 1.69, 'age': 29, 'experience': 1}]}\n",
      "{'data': {'pair': {'id': '01863046-52d8-47a2-9730-43ef4127cd8b', 'is_eliminated': 0, 'created_at': '2025-03-11 15:08:07', 'updated_at': '2025-03-11 15:08:07', 'registration_category': {'id': '38cb2a74-06ae-42a3-8117-40d204751293', 'name': 'open', 'description': 'Categoría libre'}}, 'players': [{'player': {'id': 'e99acdca-5e86-41aa-9ad4-736c267ec895', 'fullname': 'Mateo Levy', 'city': 'León', 'weight': '85.05', 'height': '1.70', 'age': 19, 'experience': 2, 'is_active': 1, 'created_at': '2025-03-11 15:08:07', 'updated_at': '2025-03-11 15:08:07'}, 'relationship': {'id': '6a088d9f-4440-44ac-a201-5f55d71aa26c', 'player_id': 'e99acdca-5e86-41aa-9ad4-736c267ec895', 'pair_id': '01863046-52d8-47a2-9730-43ef4127cd8b', 'created_at': '2025-03-11 15:08:07', 'updated_at': '2025-03-11 15:08:07'}}, {'player': {'id': 'd3106d93-a6fe-4245-ad32-c294ba0bda2b', 'fullname': 'Javier Aquino', 'city': 'Irapuato', 'weight': '84.45', 'height': '1.86', 'age': 23, 'experience': 8, 'is_active': 1, 'created_at': '2025-03-11 15:08:07', 'updated_at': '2025-03-11 15:08:07'}, 'relationship': {'id': 'c991b40c-71ed-4743-83bb-28765f4ff837', 'player_id': 'd3106d93-a6fe-4245-ad32-c294ba0bda2b', 'pair_id': '01863046-52d8-47a2-9730-43ef4127cd8b', 'created_at': '2025-03-11 15:08:07', 'updated_at': '2025-03-11 15:08:07'}}]}, 'status': 201, 'description': 'The pair with the players was created successfully'}\n",
      "{'registration_category_id': '38cb2a74-06ae-42a3-8117-40d204751293', 'players': [{'fullname': 'Sebastián Fernández', 'city': 'Salamanca', 'weight': 53.77, 'height': 1.67, 'age': 27, 'experience': 10}, {'fullname': 'Alejandro Morales', 'city': 'Zitácuaro', 'weight': 81.41, 'height': 1.86, 'age': 20, 'experience': 3}]}\n",
      "{'data': {'pair': {'id': '01863046-52d8-47a2-9730-43ef4127cd8b', 'is_eliminated': 0, 'created_at': '2025-03-11 15:08:07', 'updated_at': '2025-03-11 15:08:07', 'registration_category': {'id': '38cb2a74-06ae-42a3-8117-40d204751293', 'name': 'open', 'description': 'Categoría libre'}}, 'players': [{'player': {'id': 'e99acdca-5e86-41aa-9ad4-736c267ec895', 'fullname': 'Mateo Levy', 'city': 'León', 'weight': '85.05', 'height': '1.70', 'age': 19, 'experience': 2, 'is_active': 1, 'created_at': '2025-03-11 15:08:07', 'updated_at': '2025-03-11 15:08:07'}, 'relationship': {'id': '6a088d9f-4440-44ac-a201-5f55d71aa26c', 'player_id': 'e99acdca-5e86-41aa-9ad4-736c267ec895', 'pair_id': '01863046-52d8-47a2-9730-43ef4127cd8b', 'created_at': '2025-03-11 15:08:07', 'updated_at': '2025-03-11 15:08:07'}}, {'player': {'id': 'd3106d93-a6fe-4245-ad32-c294ba0bda2b', 'fullname': 'Javier Aquino', 'city': 'Irapuato', 'weight': '84.45', 'height': '1.86', 'age': 23, 'experience': 8, 'is_active': 1, 'created_at': '2025-03-11 15:08:07', 'updated_at': '2025-03-11 15:08:07'}, 'relationship': {'id': 'c991b40c-71ed-4743-83bb-28765f4ff837', 'player_id': 'd3106d93-a6fe-4245-ad32-c294ba0bda2b', 'pair_id': '01863046-52d8-47a2-9730-43ef4127cd8b', 'created_at': '2025-03-11 15:08:07', 'updated_at': '2025-03-11 15:08:07'}}]}, 'status': 201, 'description': 'The pair with the players was created successfully'}\n",
      "{'registration_category_id': '38cb2a74-06ae-42a3-8117-40d204751293', 'players': [{'fullname': 'Javier Castillo', 'city': 'Tequisquiapan', 'weight': 72.37, 'height': 1.61, 'age': 18, 'experience': 9}, {'fullname': 'Mateo Ortega', 'city': 'Zamora', 'weight': 80.88, 'height': 1.71, 'age': 20, 'experience': 10}]}\n",
      "{'data': {'pair': {'id': '01863046-52d8-47a2-9730-43ef4127cd8b', 'is_eliminated': 0, 'created_at': '2025-03-11 15:08:07', 'updated_at': '2025-03-11 15:08:07', 'registration_category': {'id': '38cb2a74-06ae-42a3-8117-40d204751293', 'name': 'open', 'description': 'Categoría libre'}}, 'players': [{'player': {'id': 'e99acdca-5e86-41aa-9ad4-736c267ec895', 'fullname': 'Mateo Levy', 'city': 'León', 'weight': '85.05', 'height': '1.70', 'age': 19, 'experience': 2, 'is_active': 1, 'created_at': '2025-03-11 15:08:07', 'updated_at': '2025-03-11 15:08:07'}, 'relationship': {'id': '6a088d9f-4440-44ac-a201-5f55d71aa26c', 'player_id': 'e99acdca-5e86-41aa-9ad4-736c267ec895', 'pair_id': '01863046-52d8-47a2-9730-43ef4127cd8b', 'created_at': '2025-03-11 15:08:07', 'updated_at': '2025-03-11 15:08:07'}}, {'player': {'id': 'd3106d93-a6fe-4245-ad32-c294ba0bda2b', 'fullname': 'Javier Aquino', 'city': 'Irapuato', 'weight': '84.45', 'height': '1.86', 'age': 23, 'experience': 8, 'is_active': 1, 'created_at': '2025-03-11 15:08:07', 'updated_at': '2025-03-11 15:08:07'}, 'relationship': {'id': 'c991b40c-71ed-4743-83bb-28765f4ff837', 'player_id': 'd3106d93-a6fe-4245-ad32-c294ba0bda2b', 'pair_id': '01863046-52d8-47a2-9730-43ef4127cd8b', 'created_at': '2025-03-11 15:08:07', 'updated_at': '2025-03-11 15:08:07'}}]}, 'status': 201, 'description': 'The pair with the players was created successfully'}\n",
      "{'registration_category_id': '38cb2a74-06ae-42a3-8117-40d204751293', 'players': [{'fullname': 'Sofía Fernández', 'city': 'Neza', 'weight': 51.47, 'height': 1.75, 'age': 30, 'experience': 5}, {'fullname': 'Renata Suárez', 'city': 'Celaya', 'weight': 87.19, 'height': 1.79, 'age': 20, 'experience': 6}]}\n",
      "{'data': {'pair': {'id': '01863046-52d8-47a2-9730-43ef4127cd8b', 'is_eliminated': 0, 'created_at': '2025-03-11 15:08:07', 'updated_at': '2025-03-11 15:08:07', 'registration_category': {'id': '38cb2a74-06ae-42a3-8117-40d204751293', 'name': 'open', 'description': 'Categoría libre'}}, 'players': [{'player': {'id': 'e99acdca-5e86-41aa-9ad4-736c267ec895', 'fullname': 'Mateo Levy', 'city': 'León', 'weight': '85.05', 'height': '1.70', 'age': 19, 'experience': 2, 'is_active': 1, 'created_at': '2025-03-11 15:08:07', 'updated_at': '2025-03-11 15:08:07'}, 'relationship': {'id': '6a088d9f-4440-44ac-a201-5f55d71aa26c', 'player_id': 'e99acdca-5e86-41aa-9ad4-736c267ec895', 'pair_id': '01863046-52d8-47a2-9730-43ef4127cd8b', 'created_at': '2025-03-11 15:08:07', 'updated_at': '2025-03-11 15:08:07'}}, {'player': {'id': 'd3106d93-a6fe-4245-ad32-c294ba0bda2b', 'fullname': 'Javier Aquino', 'city': 'Irapuato', 'weight': '84.45', 'height': '1.86', 'age': 23, 'experience': 8, 'is_active': 1, 'created_at': '2025-03-11 15:08:07', 'updated_at': '2025-03-11 15:08:07'}, 'relationship': {'id': 'c991b40c-71ed-4743-83bb-28765f4ff837', 'player_id': 'd3106d93-a6fe-4245-ad32-c294ba0bda2b', 'pair_id': '01863046-52d8-47a2-9730-43ef4127cd8b', 'created_at': '2025-03-11 15:08:07', 'updated_at': '2025-03-11 15:08:07'}}]}, 'status': 201, 'description': 'The pair with the players was created successfully'}\n",
      "{'registration_category_id': '38cb2a74-06ae-42a3-8117-40d204751293', 'players': [{'fullname': 'Javier López', 'city': 'Lázaro Cárdenas', 'weight': 87.02, 'height': 1.93, 'age': 18, 'experience': 9}, {'fullname': 'Mariana Ramírez', 'city': 'Celaya', 'weight': 65.63, 'height': 1.51, 'age': 21, 'experience': 8}]}\n",
      "{'data': {'pair': {'id': '01863046-52d8-47a2-9730-43ef4127cd8b', 'is_eliminated': 0, 'created_at': '2025-03-11 15:08:07', 'updated_at': '2025-03-11 15:08:07', 'registration_category': {'id': '38cb2a74-06ae-42a3-8117-40d204751293', 'name': 'open', 'description': 'Categoría libre'}}, 'players': [{'player': {'id': 'e99acdca-5e86-41aa-9ad4-736c267ec895', 'fullname': 'Mateo Levy', 'city': 'León', 'weight': '85.05', 'height': '1.70', 'age': 19, 'experience': 2, 'is_active': 1, 'created_at': '2025-03-11 15:08:07', 'updated_at': '2025-03-11 15:08:07'}, 'relationship': {'id': '6a088d9f-4440-44ac-a201-5f55d71aa26c', 'player_id': 'e99acdca-5e86-41aa-9ad4-736c267ec895', 'pair_id': '01863046-52d8-47a2-9730-43ef4127cd8b', 'created_at': '2025-03-11 15:08:07', 'updated_at': '2025-03-11 15:08:07'}}, {'player': {'id': 'd3106d93-a6fe-4245-ad32-c294ba0bda2b', 'fullname': 'Javier Aquino', 'city': 'Irapuato', 'weight': '84.45', 'height': '1.86', 'age': 23, 'experience': 8, 'is_active': 1, 'created_at': '2025-03-11 15:08:07', 'updated_at': '2025-03-11 15:08:07'}, 'relationship': {'id': 'c991b40c-71ed-4743-83bb-28765f4ff837', 'player_id': 'd3106d93-a6fe-4245-ad32-c294ba0bda2b', 'pair_id': '01863046-52d8-47a2-9730-43ef4127cd8b', 'created_at': '2025-03-11 15:08:07', 'updated_at': '2025-03-11 15:08:07'}}]}, 'status': 201, 'description': 'The pair with the players was created successfully'}\n",
      "{'registration_category_id': '38cb2a74-06ae-42a3-8117-40d204751293', 'players': [{'fullname': 'Miguel Gómez', 'city': 'Salvatierra', 'weight': 71.26, 'height': 1.85, 'age': 32, 'experience': 1}, {'fullname': 'Daniela Torres', 'city': 'Irapuato', 'weight': 64.05, 'height': 1.95, 'age': 37, 'experience': 10}]}\n",
      "{'data': {'pair': {'id': '01863046-52d8-47a2-9730-43ef4127cd8b', 'is_eliminated': 0, 'created_at': '2025-03-11 15:08:07', 'updated_at': '2025-03-11 15:08:07', 'registration_category': {'id': '38cb2a74-06ae-42a3-8117-40d204751293', 'name': 'open', 'description': 'Categoría libre'}}, 'players': [{'player': {'id': 'e99acdca-5e86-41aa-9ad4-736c267ec895', 'fullname': 'Mateo Levy', 'city': 'León', 'weight': '85.05', 'height': '1.70', 'age': 19, 'experience': 2, 'is_active': 1, 'created_at': '2025-03-11 15:08:07', 'updated_at': '2025-03-11 15:08:07'}, 'relationship': {'id': '6a088d9f-4440-44ac-a201-5f55d71aa26c', 'player_id': 'e99acdca-5e86-41aa-9ad4-736c267ec895', 'pair_id': '01863046-52d8-47a2-9730-43ef4127cd8b', 'created_at': '2025-03-11 15:08:07', 'updated_at': '2025-03-11 15:08:07'}}, {'player': {'id': 'd3106d93-a6fe-4245-ad32-c294ba0bda2b', 'fullname': 'Javier Aquino', 'city': 'Irapuato', 'weight': '84.45', 'height': '1.86', 'age': 23, 'experience': 8, 'is_active': 1, 'created_at': '2025-03-11 15:08:07', 'updated_at': '2025-03-11 15:08:07'}, 'relationship': {'id': 'c991b40c-71ed-4743-83bb-28765f4ff837', 'player_id': 'd3106d93-a6fe-4245-ad32-c294ba0bda2b', 'pair_id': '01863046-52d8-47a2-9730-43ef4127cd8b', 'created_at': '2025-03-11 15:08:07', 'updated_at': '2025-03-11 15:08:07'}}]}, 'status': 201, 'description': 'The pair with the players was created successfully'}\n",
      "{'registration_category_id': '38cb2a74-06ae-42a3-8117-40d204751293', 'players': [{'fullname': 'Lucía Morales', 'city': 'Morelia', 'weight': 75.93, 'height': 1.83, 'age': 39, 'experience': 1}, {'fullname': 'Emiliano Martínez', 'city': 'Celaya', 'weight': 58.49, 'height': 1.65, 'age': 36, 'experience': 10}]}\n",
      "{'data': {'pair': {'id': '01863046-52d8-47a2-9730-43ef4127cd8b', 'is_eliminated': 0, 'created_at': '2025-03-11 15:08:07', 'updated_at': '2025-03-11 15:08:07', 'registration_category': {'id': '38cb2a74-06ae-42a3-8117-40d204751293', 'name': 'open', 'description': 'Categoría libre'}}, 'players': [{'player': {'id': 'e99acdca-5e86-41aa-9ad4-736c267ec895', 'fullname': 'Mateo Levy', 'city': 'León', 'weight': '85.05', 'height': '1.70', 'age': 19, 'experience': 2, 'is_active': 1, 'created_at': '2025-03-11 15:08:07', 'updated_at': '2025-03-11 15:08:07'}, 'relationship': {'id': '6a088d9f-4440-44ac-a201-5f55d71aa26c', 'player_id': 'e99acdca-5e86-41aa-9ad4-736c267ec895', 'pair_id': '01863046-52d8-47a2-9730-43ef4127cd8b', 'created_at': '2025-03-11 15:08:07', 'updated_at': '2025-03-11 15:08:07'}}, {'player': {'id': 'd3106d93-a6fe-4245-ad32-c294ba0bda2b', 'fullname': 'Javier Aquino', 'city': 'Irapuato', 'weight': '84.45', 'height': '1.86', 'age': 23, 'experience': 8, 'is_active': 1, 'created_at': '2025-03-11 15:08:07', 'updated_at': '2025-03-11 15:08:07'}, 'relationship': {'id': 'c991b40c-71ed-4743-83bb-28765f4ff837', 'player_id': 'd3106d93-a6fe-4245-ad32-c294ba0bda2b', 'pair_id': '01863046-52d8-47a2-9730-43ef4127cd8b', 'created_at': '2025-03-11 15:08:07', 'updated_at': '2025-03-11 15:08:07'}}]}, 'status': 201, 'description': 'The pair with the players was created successfully'}\n"
     ]
    }
   ],
   "source": [
    "url = \"http://localhost:8080/v1/pairs/players\"\n",
    "\n",
    "# Leer el archivo JSON\n",
    "with open('players2.json', 'r', encoding='utf-8') as f:\n",
    "    data = json.load(f)\n",
    "\n",
    "api_key = get_apikey()\n",
    "headers = {\n",
    "    'X-API-KEY': api_key\n",
    "}\n",
    "\n",
    "try:\n",
    "    for player in data:\n",
    "        response = requests.post(url, json=player, headers=headers)\n",
    "        response.raise_for_status()\n",
    "        print(response.json())\n",
    "except requests.exceptions.HTTPError as err:\n",
    "    print(response.text)\n",
    "except requests.exceptions.ConnectionError:\n",
    "    print(\"Error de conexión\")\n",
    "except requests.exceptions.Timeout:\n",
    "    print(\"Timeout\")\n",
    "except Exception as e:\n",
    "    print(\"Error inesperado: \", str(e))\n"
   ]
  },
  {
   "cell_type": "code",
   "execution_count": null,
   "metadata": {},
   "outputs": [],
   "source": []
  }
 ],
 "metadata": {
  "kernelspec": {
   "display_name": "venv",
   "language": "python",
   "name": "python3"
  },
  "language_info": {
   "codemirror_mode": {
    "name": "ipython",
    "version": 3
   },
   "file_extension": ".py",
   "mimetype": "text/x-python",
   "name": "python",
   "nbconvert_exporter": "python",
   "pygments_lexer": "ipython3",
   "version": "3.12.3"
  }
 },
 "nbformat": 4,
 "nbformat_minor": 2
}
